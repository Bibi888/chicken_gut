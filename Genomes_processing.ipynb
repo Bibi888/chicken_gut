{
 "cells": [
  {
   "cell_type": "markdown",
   "id": "lightweight-broadway",
   "metadata": {},
   "source": [
    "# Bash function"
   ]
  },
  {
   "cell_type": "code",
   "execution_count": 1,
   "id": "lightweight-technician",
   "metadata": {},
   "outputs": [
    {
     "name": "stdout",
     "output_type": "stream",
     "text": [
      "rm: cannot remove ‘Raw_data/.ipynb_checkpoints’: No such file or directory\n"
     ]
    },
    {
     "ename": "FileNotFoundError",
     "evalue": "[Errno 2] No such file or directory: 'Raw_data'",
     "output_type": "error",
     "traceback": [
      "\u001b[0;31m---------------------------------------------------------------------------\u001b[0m",
      "\u001b[0;31mFileNotFoundError\u001b[0m                         Traceback (most recent call last)",
      "\u001b[0;32m/tmp/ipykernel_1987/1921007781.py\u001b[0m in \u001b[0;36m<module>\u001b[0;34m\u001b[0m\n\u001b[1;32m     12\u001b[0m \u001b[0;32mimport\u001b[0m \u001b[0mos\u001b[0m\u001b[0;34m\u001b[0m\u001b[0;34m\u001b[0m\u001b[0m\n\u001b[1;32m     13\u001b[0m \u001b[0mget_ipython\u001b[0m\u001b[0;34m(\u001b[0m\u001b[0;34m)\u001b[0m\u001b[0;34m.\u001b[0m\u001b[0msystem\u001b[0m\u001b[0;34m(\u001b[0m\u001b[0;34m'rm -r Raw_data/.ipynb_checkpoints'\u001b[0m\u001b[0;34m)\u001b[0m\u001b[0;34m\u001b[0m\u001b[0;34m\u001b[0m\u001b[0m\n\u001b[0;32m---> 14\u001b[0;31m \u001b[0mreads\u001b[0m \u001b[0;34m=\u001b[0m \u001b[0msorted\u001b[0m\u001b[0;34m(\u001b[0m\u001b[0mlist\u001b[0m\u001b[0;34m(\u001b[0m\u001b[0mset\u001b[0m\u001b[0;34m(\u001b[0m\u001b[0;34m[\u001b[0m\u001b[0mf\u001b[0m\u001b[0;34m.\u001b[0m\u001b[0msplit\u001b[0m\u001b[0;34m(\u001b[0m\u001b[0;34m'_'\u001b[0m\u001b[0;34m)\u001b[0m\u001b[0;34m[\u001b[0m\u001b[0;36m0\u001b[0m\u001b[0;34m]\u001b[0m\u001b[0;34m.\u001b[0m\u001b[0msplit\u001b[0m\u001b[0;34m(\u001b[0m\u001b[0;34m'.'\u001b[0m\u001b[0;34m)\u001b[0m\u001b[0;34m[\u001b[0m\u001b[0;34m-\u001b[0m\u001b[0;36m1\u001b[0m\u001b[0;34m]\u001b[0m \u001b[0;32mfor\u001b[0m \u001b[0mf\u001b[0m \u001b[0;32min\u001b[0m \u001b[0mos\u001b[0m\u001b[0;34m.\u001b[0m\u001b[0mlistdir\u001b[0m\u001b[0;34m(\u001b[0m\u001b[0;34m'Raw_data'\u001b[0m\u001b[0;34m)\u001b[0m\u001b[0;34m]\u001b[0m\u001b[0;34m)\u001b[0m\u001b[0;34m)\u001b[0m\u001b[0;34m)\u001b[0m\u001b[0;34m\u001b[0m\u001b[0;34m\u001b[0m\u001b[0m\n\u001b[0m\u001b[1;32m     15\u001b[0m \u001b[0mdone\u001b[0m \u001b[0;34m=\u001b[0m \u001b[0msorted\u001b[0m\u001b[0;34m(\u001b[0m\u001b[0mlist\u001b[0m\u001b[0;34m(\u001b[0m\u001b[0mset\u001b[0m\u001b[0;34m(\u001b[0m\u001b[0;34m[\u001b[0m\u001b[0mf\u001b[0m \u001b[0;32mfor\u001b[0m \u001b[0mf\u001b[0m \u001b[0;32min\u001b[0m \u001b[0mos\u001b[0m\u001b[0;34m.\u001b[0m\u001b[0mlistdir\u001b[0m\u001b[0;34m(\u001b[0m\u001b[0;34m'Spades_assembly'\u001b[0m\u001b[0;34m)\u001b[0m\u001b[0;34m]\u001b[0m\u001b[0;34m)\u001b[0m\u001b[0;34m)\u001b[0m\u001b[0;34m)\u001b[0m\u001b[0;34m\u001b[0m\u001b[0;34m\u001b[0m\u001b[0m\n\u001b[1;32m     16\u001b[0m \u001b[0mprint\u001b[0m\u001b[0;34m(\u001b[0m\u001b[0;34m'Raw reads:'\u001b[0m\u001b[0;34m,\u001b[0m \u001b[0mreads\u001b[0m\u001b[0;34m)\u001b[0m\u001b[0;34m\u001b[0m\u001b[0;34m\u001b[0m\u001b[0m\n",
      "\u001b[0;31mFileNotFoundError\u001b[0m: [Errno 2] No such file or directory: 'Raw_data'"
     ]
    }
   ],
   "source": [
    "def bash(string,name,queue):\n",
    "  script = \"%s.sh\"%name\n",
    "  with open(script, \"w\") as text_file:\n",
    "    text_file.write(string)\n",
    "  !chmod +x $script\n",
    "  !qsub -q $queue $script\n",
    "  !rm $script\n",
    "  \n",
    "ws = '/beegfs/work/workspace/ws/ho_rettu74-genomes-0/jupyterlab'\n",
    "\n",
    "#Create list of file indexes to access it later\n",
    "import os\n",
    "!rm -r Raw_data/.ipynb_checkpoints\n",
    "reads = sorted(list(set([f.split('_')[0].split('.')[-1] for f in os.listdir('Raw_data')])))\n",
    "done = sorted(list(set([f for f in os.listdir('Spades_assembly')])))\n",
    "print('Raw reads:', reads)\n",
    "print('Processed:', done)\n",
    "print('Assemblies are missing for (if empty all good!): ', [r for r in reads if r not in done])"
   ]
  },
  {
   "cell_type": "markdown",
   "id": "ecbfbb73-f329-463a-8cb3-ba3c05a3b35a",
   "metadata": {},
   "source": [
    "# Unzip and move files"
   ]
  },
  {
   "cell_type": "code",
   "execution_count": 19,
   "id": "1c4b327e-bb57-4bb1-b862-2db56d47157a",
   "metadata": {
    "tags": []
   },
   "outputs": [
    {
     "name": "stdout",
     "output_type": "stream",
     "text": [
      "Archive:  X204SC21100034-Z01-F003.zip\n",
      "   creating: X204SC21100034-Z01-F003/\n",
      " extracting: X204SC21100034-Z01-F003/MD5.zip  \n",
      "  inflating: X204SC21100034-Z01-F003/MD5.txt  \n",
      "  inflating: X204SC21100034-Z01-F003/checkSize.xls  \n",
      "   creating: X204SC21100034-Z01-F003/report/\n",
      " extracting: X204SC21100034-Z01-F003/report/X204SC21100034-Z01-F003_final_20220315070504.zip  \n",
      "   creating: X204SC21100034-Z01-F003/raw_data/\n",
      "   creating: X204SC21100034-Z01-F003/raw_data/LTX114t4_1/\n",
      "  inflating: X204SC21100034-Z01-F003/raw_data/LTX114t4_1/LTX114t4_1_FSFP220075839-1r_HWWW2DSX2_L4_1.fq.gz  \n",
      "  inflating: X204SC21100034-Z01-F003/raw_data/LTX114t4_1/MD5.txt  \n",
      "  inflating: X204SC21100034-Z01-F003/raw_data/LTX114t4_1/LTX114t4_1_FDSW220075839-1r_HWYCLDSX2_L3_1.fq.gz  \n",
      "  inflating: X204SC21100034-Z01-F003/raw_data/LTX114t4_1/LTX114t4_1_FSFP220075839-1r_HWWW2DSX2_L4_2.fq.gz  \n",
      "  inflating: X204SC21100034-Z01-F003/raw_data/LTX114t4_1/LTX114t4_1_FDSW220075839-1r_HWYCLDSX2_L3_2.fq.gz  \n",
      "   creating: X204SC21100034-Z01-F003/raw_data/I26/\n",
      "  inflating: X204SC21100034-Z01-F003/raw_data/I26/I26_FDSW220075853-1r_HWVT7DSX2_L1_1.fq.gz  \n",
      "  inflating: X204SC21100034-Z01-F003/raw_data/I26/MD5.txt  \n",
      "  inflating: X204SC21100034-Z01-F003/raw_data/I26/I26_FDSW220075853-1r_HWVT7DSX2_L1_2.fq.gz  \n",
      "  inflating: X204SC21100034-Z01-F003/raw_data/I26/I26_FDSW220075853-1r_HWYCLDSX2_L3_1.fq.gz  \n",
      "  inflating: X204SC21100034-Z01-F003/raw_data/I26/I26_FDSW220075853-1r_HWYCLDSX2_L3_2.fq.gz  \n",
      "   creating: X204SC21100034-Z01-F003/raw_data/I27/\n",
      "  inflating: X204SC21100034-Z01-F003/raw_data/I27/I27_FDSW220075850-1r_HWYCLDSX2_L3_1.fq.gz  \n",
      "  inflating: X204SC21100034-Z01-F003/raw_data/I27/MD5.txt  \n",
      "  inflating: X204SC21100034-Z01-F003/raw_data/I27/I27_FDSW220075850-1r_HWYCLDSX2_L3_2.fq.gz  \n",
      "  inflating: X204SC21100034-Z01-F003/raw_data/Rawdata_Readme.pdf  \n",
      "   creating: X204SC21100034-Z01-F003/raw_data/C40C/\n",
      "  inflating: X204SC21100034-Z01-F003/raw_data/C40C/MD5.txt  \n",
      "  inflating: X204SC21100034-Z01-F003/raw_data/C40C/C40C_FDSW220075849-1r_HWYCLDSX2_L3_1.fq.gz  \n",
      "  inflating: X204SC21100034-Z01-F003/raw_data/C40C/C40C_FDSW220075849-1r_HWYCLDSX2_L3_2.fq.gz  \n",
      "   creating: X204SC21100034-Z01-F003/raw_data/J39/\n",
      "  inflating: X204SC21100034-Z01-F003/raw_data/J39/MD5.txt  \n",
      "  inflating: X204SC21100034-Z01-F003/raw_data/J39/J39_FSFP220075851-1r_HWWW2DSX2_L4_1.fq.gz  \n",
      "  inflating: X204SC21100034-Z01-F003/raw_data/J39/J39_FSFP220075851-1r_HWWW2DSX2_L4_2.fq.gz  \n",
      "   creating: X204SC21100034-Z01-F003/raw_data/J22/\n",
      "  inflating: X204SC21100034-Z01-F003/raw_data/J22/J22_FDSW220075852-1r_HWYCLDSX2_L3_2.fq.gz  \n",
      "  inflating: X204SC21100034-Z01-F003/raw_data/J22/J22_FDSW220075852-1r_HWVT7DSX2_L2_1.fq.gz  \n",
      "  inflating: X204SC21100034-Z01-F003/raw_data/J22/J22_FDSW220075852-1r_HWYCLDSX2_L3_1.fq.gz  \n",
      "  inflating: X204SC21100034-Z01-F003/raw_data/J22/J22_FDSW220075852-1r_HWVT7DSX2_L2_2.fq.gz  \n",
      "  inflating: X204SC21100034-Z01-F003/raw_data/J22/MD5.txt  \n",
      "   creating: X204SC21100034-Z01-F003/raw_data/C40A/\n",
      "  inflating: X204SC21100034-Z01-F003/raw_data/C40A/C40A_FDSW220075848-1r_HWYCLDSX2_L3_2.fq.gz  \n",
      "  inflating: X204SC21100034-Z01-F003/raw_data/C40A/C40A_FDSW220075848-1r_HWYCLDSX2_L3_1.fq.gz  \n",
      "  inflating: X204SC21100034-Z01-F003/raw_data/C40A/MD5.txt  \n",
      "   creating: X204SC21100034-Z01-F003/raw_data/C2A/\n",
      "  inflating: X204SC21100034-Z01-F003/raw_data/C2A/C2A_FDSW220075846-1r_HWYCLDSX2_L3_1.fq.gz  \n",
      "  inflating: X204SC21100034-Z01-F003/raw_data/C2A/MD5.txt  \n",
      "  inflating: X204SC21100034-Z01-F003/raw_data/C2A/C2A_FDSW220075846-1r_HWYCLDSX2_L3_2.fq.gz  \n",
      "   creating: X204SC21100034-Z01-F003/raw_data/T0C/\n",
      "  inflating: X204SC21100034-Z01-F003/raw_data/T0C/T0C_FDSW220075845-1r_HWVT7DSX2_L2_1.fq.gz  \n",
      "  inflating: X204SC21100034-Z01-F003/raw_data/T0C/MD5.txt  \n",
      "  inflating: X204SC21100034-Z01-F003/raw_data/T0C/T0C_FDSW220075845-1r_HWVT7DSX2_L2_2.fq.gz  \n",
      "  inflating: X204SC21100034-Z01-F003/raw_data/T0C/T0C_FDSW220075845-1r_HWYCLDSX2_L3_2.fq.gz  \n",
      "  inflating: X204SC21100034-Z01-F003/raw_data/T0C/T0C_FDSW220075845-1r_HWYCLDSX2_L3_1.fq.gz  \n",
      "   creating: X204SC21100034-Z01-F003/raw_data/Clos1/\n",
      "  inflating: X204SC21100034-Z01-F003/raw_data/Clos1/MD5.txt  \n",
      "  inflating: X204SC21100034-Z01-F003/raw_data/Clos1/Clos1_FDSW220075843-1r_HWVT7DSX2_L1_2.fq.gz  \n",
      "  inflating: X204SC21100034-Z01-F003/raw_data/Clos1/Clos1_FDSW220075843-1r_HWYCLDSX2_L3_1.fq.gz  \n",
      "  inflating: X204SC21100034-Z01-F003/raw_data/Clos1/Clos1_FDSW220075843-1r_HWVT7DSX2_L1_1.fq.gz  \n",
      "  inflating: X204SC21100034-Z01-F003/raw_data/Clos1/Clos1_FDSW220075843-1r_HWYCLDSX2_L3_2.fq.gz  \n",
      "   creating: X204SC21100034-Z01-F003/raw_data/Bifi2/\n",
      "  inflating: X204SC21100034-Z01-F003/raw_data/Bifi2/Bifi2_FDSW220075842-1r_HWVT7DSX2_L1_1.fq.gz  \n",
      "  inflating: X204SC21100034-Z01-F003/raw_data/Bifi2/MD5.txt  \n",
      "  inflating: X204SC21100034-Z01-F003/raw_data/Bifi2/Bifi2_FDSW220075842-1r_HWYCLDSX2_L3_2.fq.gz  \n",
      "  inflating: X204SC21100034-Z01-F003/raw_data/Bifi2/Bifi2_FDSW220075842-1r_HWYCLDSX2_L3_1.fq.gz  \n",
      "  inflating: X204SC21100034-Z01-F003/raw_data/Bifi2/Bifi2_FDSW220075842-1r_HWVT7DSX2_L1_2.fq.gz  \n",
      "   creating: X204SC21100034-Z01-F003/raw_data/LTX114t4_2/\n",
      "  inflating: X204SC21100034-Z01-F003/raw_data/LTX114t4_2/LTX114t4_2_FDSW220075840-1r_HWVT7DSX2_L1_1.fq.gz  \n",
      "  inflating: X204SC21100034-Z01-F003/raw_data/LTX114t4_2/LTX114t4_2_FDSW220075840-1r_HWYCLDSX2_L3_1.fq.gz  \n",
      "  inflating: X204SC21100034-Z01-F003/raw_data/LTX114t4_2/MD5.txt  \n",
      "  inflating: X204SC21100034-Z01-F003/raw_data/LTX114t4_2/LTX114t4_2_FDSW220075840-1r_HWYCLDSX2_L3_2.fq.gz  \n",
      "  inflating: X204SC21100034-Z01-F003/raw_data/LTX114t4_2/LTX114t4_2_FDSW220075840-1r_HWVT7DSX2_L1_2.fq.gz  \n",
      "   creating: X204SC21100034-Z01-F003/raw_data/Spiro/\n",
      "  inflating: X204SC21100034-Z01-F003/raw_data/Spiro/Spiro_FDSW220075844-1r_HWVT7DSX2_L1_2.fq.gz  \n",
      "  inflating: X204SC21100034-Z01-F003/raw_data/Spiro/MD5.txt  \n",
      "  inflating: X204SC21100034-Z01-F003/raw_data/Spiro/Spiro_FDSW220075844-1r_HWYCLDSX2_L3_1.fq.gz  \n",
      "  inflating: X204SC21100034-Z01-F003/raw_data/Spiro/Spiro_FDSW220075844-1r_HWVT7DSX2_L1_1.fq.gz  \n",
      "  inflating: X204SC21100034-Z01-F003/raw_data/Spiro/Spiro_FDSW220075844-1r_HWYCLDSX2_L3_2.fq.gz  \n",
      "   creating: X204SC21100034-Z01-F003/raw_data/Bifi1/\n",
      "  inflating: X204SC21100034-Z01-F003/raw_data/Bifi1/Bifi1_FDSW220075841-1r_HWYCLDSX2_L3_1.fq.gz  \n",
      "  inflating: X204SC21100034-Z01-F003/raw_data/Bifi1/MD5.txt  \n",
      "  inflating: X204SC21100034-Z01-F003/raw_data/Bifi1/Bifi1_FDSW220075841-1r_HWVT7DSX2_L1_1.fq.gz  \n",
      "  inflating: X204SC21100034-Z01-F003/raw_data/Bifi1/Bifi1_FDSW220075841-1r_HWYCLDSX2_L3_2.fq.gz  \n",
      "  inflating: X204SC21100034-Z01-F003/raw_data/Bifi1/Bifi1_FDSW220075841-1r_HWVT7DSX2_L1_2.fq.gz  \n",
      "   creating: X204SC21100034-Z01-F003/raw_data/C8C/\n",
      "  inflating: X204SC21100034-Z01-F003/raw_data/C8C/MD5.txt  \n",
      "  inflating: X204SC21100034-Z01-F003/raw_data/C8C/C8C_FDSW220075847-1r_HWYCLDSX2_L3_1.fq.gz  \n",
      "  inflating: X204SC21100034-Z01-F003/raw_data/C8C/C8C_FDSW220075847-1r_HWYCLDSX2_L3_2.fq.gz  \n",
      "  inflating: X204SC21100034-Z01-F003/Readme.html  \n"
     ]
    }
   ],
   "source": [
    "!unzip X204*"
   ]
  },
  {
   "cell_type": "code",
   "execution_count": 22,
   "id": "37aa3e3d-c08f-44e6-a82f-9ed86072d796",
   "metadata": {},
   "outputs": [
    {
     "name": "stdout",
     "output_type": "stream",
     "text": [
      "Ups! Sequenced in 2 lines, concatenate! J22\n",
      "Ups! Sequenced in 2 lines, concatenate! I26\n"
     ]
    }
   ],
   "source": [
    "# Check if all samples sequenced in 1 line or not already sequenced earlier\n",
    "for dir in os.listdir('X204SC21100034-Z01-F003/raw_data/'):\n",
    "  if dir in os.listdir('Raw_data'):\n",
    "    print('Ups! Already sequenced, concatenate!',dir)\n",
    "  if dir != 'Rawdata_Readme.pdf' and len(os.listdir('X204SC21100034-Z01-F003/raw_data/'+dir)) > 3:\n",
    "    print('Ups! Sequenced in 2 lines, concatenate!',dir)"
   ]
  },
  {
   "cell_type": "code",
   "execution_count": 23,
   "id": "1523d8fb-e43e-4d33-ab68-a9b1a1c56033",
   "metadata": {},
   "outputs": [],
   "source": [
    "# move files to Raw_reads\n",
    "for dir in os.listdir('X204SC21100034-Z01-F003/raw_data/'):\n",
    "  if dir != 'Rawdata_Readme.pdf':\n",
    "    !mv X204SC21100034-Z01-F003/raw_data/$dir/*fq.gz Raw_data/"
   ]
  },
  {
   "cell_type": "markdown",
   "id": "harmful-tucson",
   "metadata": {},
   "source": [
    "# Concatenate same samples"
   ]
  },
  {
   "cell_type": "code",
   "execution_count": 27,
   "id": "complete-editor",
   "metadata": {},
   "outputs": [],
   "source": [
    "reads = [f.split('_')[0].split('.')[-1] for f in os.listdir(ws+'/Raw_data')]\n",
    "reads = sorted(list(set(reads)))\n",
    "for read in reads:\n",
    "  if [f.split('_')[0].split('.')[-1] for f in os.listdir(ws+'/Raw_data')].count(read) > 3:\n",
    "    inp1 = ws+'/Raw_data/%s_*_1.fq.gz'% read\n",
    "    out1 = ws+'/Raw_data/%s_1.fq.gz'  % read\n",
    "    inp2 = ws+'/Raw_data/%s_*_2.fq.gz'% read\n",
    "    out2 = ws+'/Raw_data/%s_2.fq.gz'  % read\n",
    "    !cat $inp1 > $out1\n",
    "    !cat $inp2 > $out2 \n",
    "    !rm $inp1 $inp2"
   ]
  },
  {
   "cell_type": "markdown",
   "id": "indian-buffalo",
   "metadata": {},
   "source": [
    "# Simplify read_names"
   ]
  },
  {
   "cell_type": "code",
   "execution_count": 28,
   "id": "worse-romance",
   "metadata": {
    "tags": []
   },
   "outputs": [
    {
     "name": "stdout",
     "output_type": "stream",
     "text": [
      "mv: cannot stat ‘/beegfs/work/workspace/ws/ho_rettu74-genomes-0/jupyterlab/Raw_data/I26_*_1.fq.gz’: No such file or directory\n",
      "mv: cannot stat ‘/beegfs/work/workspace/ws/ho_rettu74-genomes-0/jupyterlab/Raw_data/I26_*_2.fq.gz’: No such file or directory\n",
      "mv: cannot stat ‘/beegfs/work/workspace/ws/ho_rettu74-genomes-0/jupyterlab/Raw_data/I27_*_1.fq.gz’: No such file or directory\n",
      "mv: cannot stat ‘/beegfs/work/workspace/ws/ho_rettu74-genomes-0/jupyterlab/Raw_data/I27_*_2.fq.gz’: No such file or directory\n",
      "mv: cannot stat ‘/beegfs/work/workspace/ws/ho_rettu74-genomes-0/jupyterlab/Raw_data/J22_*_1.fq.gz’: No such file or directory\n",
      "mv: cannot stat ‘/beegfs/work/workspace/ws/ho_rettu74-genomes-0/jupyterlab/Raw_data/J22_*_2.fq.gz’: No such file or directory\n",
      "mv: cannot stat ‘/beegfs/work/workspace/ws/ho_rettu74-genomes-0/jupyterlab/Raw_data/J39_*_1.fq.gz’: No such file or directory\n",
      "mv: cannot stat ‘/beegfs/work/workspace/ws/ho_rettu74-genomes-0/jupyterlab/Raw_data/J39_*_2.fq.gz’: No such file or directory\n"
     ]
    }
   ],
   "source": [
    "reads = [f.split('_')[0].split('.')[-1] for f in os.listdir(ws+'/Raw_data')]\n",
    "reads = sorted(list(set(reads)))\n",
    "rr = ws+'/Raw_data'\n",
    "for read in reads:\n",
    "  inp1 = rr+'/%s_*_1.fq.gz' %read\n",
    "  out1 = rr+'/%s_1.fq.gz' %read\n",
    "  inp2 = rr+'/%s_*_2.fq.gz' %read\n",
    "  out2 = rr+'/%s_2.fq.gz' %read\n",
    "  !mv $inp1 $out1\n",
    "  !mv $inp2 $out2"
   ]
  },
  {
   "cell_type": "markdown",
   "id": "forbidden-cream",
   "metadata": {},
   "source": [
    "# BBtools"
   ]
  },
  {
   "cell_type": "code",
   "execution_count": 29,
   "id": "monetary-dodge",
   "metadata": {
    "tags": []
   },
   "outputs": [
    {
     "name": "stdout",
     "output_type": "stream",
     "text": [
      "10490117\n",
      "10490118\n",
      "10490119\n",
      "10490120\n"
     ]
    }
   ],
   "source": [
    "# remove sequencing artifacts, adapters, merge reads and QC\n",
    "string = '''\n",
    "#PBS -l nodes=1:ppn=12\n",
    "#PBS -l walltime=01:00:00\n",
    "#PBS -l mem=60gb\n",
    "#PBS -S /bin/bash\n",
    "source /home/ho/ho_genetics/ho_rettu74/miniconda3/etc/profile.d/conda.sh\n",
    "conda activate genomes\n",
    "bbduk.sh in1=%s in2=%s out1=%s out2=%s outm=%s k=31 ftm=5 ref=%s t=12\n",
    "bbduk.sh in1=%s in2=%s out1=%s out2=%s ref=%s ktrim=r k=23 mink=11 hdist=1 tbo=t qtrim=r trimq=20 t=12\n",
    "bbmerge-auto.sh in1=%s in2=%s out=%s outu1=%s outu2=%s rem k=62 extend2=50 ecct t=12 -Xmx60g\n",
    "bbduk.sh in=%s out=%s qtrim=r trimq=10 minlen=50 t=12\n",
    "bbduk.sh in1=%s in2=%s out1=%s out2=%s qtrim=r trimq=10 minlen=50 t=12\n",
    "conda deactivate\n",
    "'''\n",
    "nA = ws+'/NoArt_reads'\n",
    "na = ws+'/NoAdapt_reads'\n",
    "me = ws+'/Merged_reads'\n",
    "QC = ws+'/QCreads'\n",
    "rr = ws+'/Raw_data'\n",
    "!mkdir $nA $na $me $QC\n",
    "import os\n",
    "for read in reads:\n",
    "  if read in done: continue\n",
    "  # if read != \"B003\" : continue\n",
    "  in1  = rr+'/%s_1.fq.gz'           % read\n",
    "  in2  = rr+'/%s_2.fq.gz'           % read\n",
    "  om   = nA+'/%s_matched.fq.gz'     % read\n",
    "  o1   = nA+'/%s_unmatched_1.fq.gz' % read\n",
    "  o2   = nA+'/%s_unmatched_2.fq.gz' % read\n",
    "  o3   = na+'/%s_trimmed_1.fq.gz'   % read\n",
    "  o4   = na+'/%s_trimmed_2.fq.gz'   % read\n",
    "  mer  = me+'/%s_merged.fq.gz'      % read\n",
    "  unm1 = me+'/%s_unmerged_1.fq.gz'  % read\n",
    "  unm2 = me+'/%s_unmerged_2.fq.gz'  % read\n",
    "  mQC  = QC+'/%s_merged.fq.gz'      % read\n",
    "  uQC1 = QC+'/%s_unmerged_1.fq.gz'  % read\n",
    "  uQC2 = QC+'/%s_unmerged_2.fq.gz'% read\n",
    "  r1  = '/home/ho/ho_genetics/ho_rettu74/miniconda3/envs/genomes/bbtools/lib/resources/sequencing_artifacts.fa.gz'\n",
    "  r2  = '/home/ho/ho_genetics/ho_rettu74/miniconda3/envs/genomes/bbtools/lib/resources/adapters.fa'\n",
    "  if os.path.exists(uQC1): continue\n",
    "  bash(string%(in1,in2,o1,o2,om,r1,o1,o2,o3,o4,r2,o3,o4,mer,unm1,unm2,mer,mQC,unm1,unm2,uQC1,uQC2),\n",
    "       'BBTools_%s'%read,'short')"
   ]
  },
  {
   "cell_type": "code",
   "execution_count": 30,
   "id": "latest-hormone",
   "metadata": {},
   "outputs": [
    {
     "name": "stdout",
     "output_type": "stream",
     "text": [
      "mv: cannot stat ‘*.sh.e*’: No such file or directory\n"
     ]
    }
   ],
   "source": [
    "!mkdir Stats\n",
    "!mv *.sh.e* Stats/"
   ]
  },
  {
   "cell_type": "markdown",
   "id": "whole-oliver",
   "metadata": {},
   "source": [
    "# Assembly with SPAdes"
   ]
  },
  {
   "cell_type": "code",
   "execution_count": 5,
   "id": "c8a54379-9b7a-4994-b5d5-9127d990e9b4",
   "metadata": {
    "tags": []
   },
   "outputs": [
    {
     "name": "stdout",
     "output_type": "stream",
     "text": [
      "mkdir: cannot create directory ‘/beegfs/work/workspace/ws/ho_rettu74-genomes-0/jupyterlab/Spades_assembly’: File exists\n",
      "10490277\n",
      "10490278\n",
      "10490279\n",
      "10490280\n"
     ]
    }
   ],
   "source": [
    "# Assembly with spades and Quast\n",
    "string = '''\n",
    "#PBS -l nodes=1:ppn=12\n",
    "#PBS -l walltime=2:00:00\n",
    "#PBS -l mem=60gb\n",
    "#PBS -S /bin/bash\n",
    "source /home/ho/ho_genetics/ho_rettu74/miniconda3/etc/profile.d/conda.sh\n",
    "conda activate genomes\n",
    "spades.py -k 21,33,55,77 -1 %s -2 %s --merged %s -o %s -m 80 -t 12 --isolate\n",
    "quast -t 12 -o %s %s\n",
    "conda deactivate\n",
    "'''\n",
    "QC = ws+'/QCreads'\n",
    "Sp = ws+'/Spades_assembly'\n",
    "!mkdir $Sp\n",
    "for read in reads:\n",
    "  if read in done: continue\n",
    "  # if read != \"B003\" : continue\n",
    "  mer  = QC+'/%s_merged.fq.gz' % read\n",
    "  unm1 = QC+'/%s_unmerged_1.fq.gz'% read\n",
    "  unm2 = QC+'/%s_unmerged_2.fq.gz'% read\n",
    "  out  = Sp+'/'+read\n",
    "  qua  = Sp+'/'+read+'/Quast'\n",
    "  ass  = Sp+'/%s/contigs.fasta'%read\n",
    "  if os.path.exists(out): continue\n",
    "  bash(string%(unm1,unm2,mer,out,qua,ass),'%s_Spades'%read,'short')"
   ]
  },
  {
   "cell_type": "code",
   "execution_count": 3,
   "id": "afecfb54-f02b-4b2e-8495-b55e6424595d",
   "metadata": {},
   "outputs": [
    {
     "name": "stdout",
     "output_type": "stream",
     "text": [
      "mkdir: cannot create directory ‘contigs’: File exists\n"
     ]
    }
   ],
   "source": [
    "# move contigs to the new directory with a report\n",
    "!mkdir contigs\n",
    "for read in reads:\n",
    "  oldass = 'Spades_assembly/%s/contigs.fasta'%read\n",
    "  newass = 'contigs/%s_contigs.fasta'%read\n",
    "  oldqua = 'Spades_assembly/%s/Quast/report.pdf'%read\n",
    "  newqua = 'contigs/%s_report.pdf'%read\n",
    "  !cp $oldass $newass\n",
    "  !cp $oldqua $newqua"
   ]
  },
  {
   "cell_type": "code",
   "execution_count": 7,
   "id": "twenty-things",
   "metadata": {
    "tags": []
   },
   "outputs": [
    {
     "name": "stdout",
     "output_type": "stream",
     "text": [
      "updating: Trycycler/ (stored 0%)\n",
      "updating: Trycycler/assemblies/ (stored 0%)\n",
      "updating: Trycycler/assemblies/B98/ (stored 0%)\n",
      "updating: Trycycler/assemblies/B98/assembly_06/ (stored 0%)\n",
      "updating: Trycycler/assemblies/B98/assembly_06/20-repeat/ (stored 0%)\n"
     ]
    }
   ],
   "source": [
    "# zip contigs folder to download\n",
    "!zip -r Trycycler.zip Trycycler"
   ]
  },
  {
   "cell_type": "code",
   "execution_count": 19,
   "id": "d58a04d6-7901-4c87-9cd2-e1818362af97",
   "metadata": {
    "tags": []
   },
   "outputs": [],
   "source": [
    "# clean Spades directory to save some space\n",
    "keep = ['Quast','contigs.fasta','contigs.paths','scaffolds.fasta','scaffolds.paths','spades.log']\n",
    "for read in reads:\n",
    "  for file in os.listdir('Spades_assembly/%s'%read):\n",
    "    if file not in keep:\n",
    "      path = 'Spades_assembly/%s/%s'%(read,file)\n",
    "      !rm -rf $path"
   ]
  },
  {
   "cell_type": "code",
   "execution_count": 21,
   "id": "97a73e2b-b492-4531-848d-12c855411e7f",
   "metadata": {},
   "outputs": [
    {
     "name": "stdout",
     "output_type": "stream",
     "text": [
      "10490282\n",
      "10490283\n",
      "10490284\n",
      "10490285\n"
     ]
    }
   ],
   "source": [
    "##PROKKA\n",
    "# Annotation with Prokka\n",
    "string = '''\n",
    "#PBS -l nodes=1:ppn=2\n",
    "#PBS -l walltime=1:00:00\n",
    "#PBS -l mem=24gb\n",
    "#PBS -S /bin/bash\n",
    "source /home/ho/ho_genetics/ho_rettu74/miniconda3/etc/profile.d/conda.sh\n",
    "conda activate prokka\n",
    "prokka %s --addgenes --outdir %s\n",
    "conda deactivate\n",
    "'''\n",
    "contigs = ws+'/contigs'\n",
    "prokka = ws+'/prokka'\n",
    "!mkdir $prokka\n",
    "for read in reads:\n",
    "  if read == \"B002\": continue\n",
    "  contig = contigs+ \"/%s_contigs.fasta\" % read\n",
    "  outdir = ws+\"/prokka/%s\" % read\n",
    "  bash(string%(contig,outdir),'%s_prokka'%read,'short')"
   ]
  },
  {
   "cell_type": "code",
   "execution_count": 5,
   "id": "ce09e225-37e3-4051-a22c-1428129a1312",
   "metadata": {},
   "outputs": [
    {
     "name": "stdout",
     "output_type": "stream",
     "text": [
      "  adding: prokka/ (stored 0%)\n",
      "  adding: prokka/J22/ (stored 0%)\n",
      "  adding: prokka/J22/PROKKA_04062022.gbk (deflated 69%)\n",
      "  adding: prokka/J22/PROKKA_04062022.sqn (deflated 84%)\n",
      "  adding: prokka/J22/PROKKA_04062022.tbl (deflated 84%)\n",
      "  adding: prokka/J22/PROKKA_04062022.log (deflated 79%)\n",
      "  adding: prokka/J22/PROKKA_04062022.faa (deflated 43%)\n",
      "  adding: prokka/J22/PROKKA_04062022.fsa (deflated 69%)\n",
      "  adding: prokka/J22/PROKKA_04062022.txt (deflated 15%)\n",
      "  adding: prokka/J22/PROKKA_04062022.fna (deflated 69%)\n",
      "  adding: prokka/J22/PROKKA_04062022.tsv (deflated 75%)\n",
      "  adding: prokka/J22/PROKKA_04062022.ffn (deflated 69%)\n",
      "  adding: prokka/J22/PROKKA_04062022.err (deflated 96%)\n",
      "  adding: prokka/J22/PROKKA_04062022.gff (deflated 74%)\n",
      "  adding: prokka/J39/ (stored 0%)\n",
      "  adding: prokka/J39/PROKKA_04062022.gbk (deflated 73%)\n",
      "  adding: prokka/J39/PROKKA_04062022.sqn (deflated 86%)\n",
      "  adding: prokka/J39/PROKKA_04062022.tbl (deflated 84%)\n",
      "  adding: prokka/J39/PROKKA_04062022.log (deflated 82%)\n",
      "  adding: prokka/J39/PROKKA_04062022.faa (deflated 45%)\n",
      "  adding: prokka/J39/PROKKA_04062022.fsa (deflated 70%)\n",
      "  adding: prokka/J39/PROKKA_04062022.txt (deflated 11%)\n",
      "  adding: prokka/J39/PROKKA_04062022.fna (deflated 69%)\n",
      "  adding: prokka/J39/PROKKA_04062022.tsv (deflated 77%)\n",
      "  adding: prokka/J39/PROKKA_04062022.ffn (deflated 69%)\n",
      "  adding: prokka/J39/PROKKA_04062022.err (deflated 92%)\n",
      "  adding: prokka/J39/PROKKA_04062022.gff (deflated 74%)\n",
      "  adding: prokka/I27/ (stored 0%)\n",
      "  adding: prokka/I27/PROKKA_04062022.gbk (deflated 68%)\n",
      "  adding: prokka/I27/PROKKA_04062022.sqn (deflated 83%)\n",
      "  adding: prokka/I27/PROKKA_04062022.tbl (deflated 84%)\n",
      "  adding: prokka/I27/PROKKA_04062022.log (deflated 80%)\n",
      "  adding: prokka/I27/PROKKA_04062022.faa (deflated 43%)\n",
      "  adding: prokka/I27/PROKKA_04062022.fsa (deflated 70%)\n",
      "  adding: prokka/I27/PROKKA_04062022.txt (deflated 14%)\n",
      "  adding: prokka/I27/PROKKA_04062022.fna (deflated 69%)\n",
      "  adding: prokka/I27/PROKKA_04062022.tsv (deflated 75%)\n",
      "  adding: prokka/I27/PROKKA_04062022.ffn (deflated 69%)\n",
      "  adding: prokka/I27/PROKKA_04062022.err (deflated 92%)\n",
      "  adding: prokka/I27/PROKKA_04062022.gff (deflated 74%)\n",
      "  adding: prokka/I26/ (stored 0%)\n",
      "  adding: prokka/I26/PROKKA_04062022.gbk (deflated 68%)\n",
      "  adding: prokka/I26/PROKKA_04062022.sqn (deflated 83%)\n",
      "  adding: prokka/I26/PROKKA_04062022.tbl (deflated 84%)\n",
      "  adding: prokka/I26/PROKKA_04062022.log (deflated 80%)\n",
      "  adding: prokka/I26/PROKKA_04062022.faa (deflated 43%)\n",
      "  adding: prokka/I26/PROKKA_04062022.fsa (deflated 70%)\n",
      "  adding: prokka/I26/PROKKA_04062022.txt (deflated 12%)\n",
      "  adding: prokka/I26/PROKKA_04062022.fna (deflated 69%)\n",
      "  adding: prokka/I26/PROKKA_04062022.tsv (deflated 75%)\n",
      "  adding: prokka/I26/PROKKA_04062022.ffn (deflated 69%)\n",
      "  adding: prokka/I26/PROKKA_04062022.err (deflated 92%)\n",
      "  adding: prokka/I26/PROKKA_04062022.gff (deflated 74%)\n"
     ]
    }
   ],
   "source": [
    "# zip prokka folder to download\n",
    "!zip -r prokka.zip prokka"
   ]
  }
 ],
 "metadata": {
  "kernelspec": {
   "display_name": "Python 3 (ipykernel)",
   "language": "python",
   "name": "python3"
  },
  "language_info": {
   "codemirror_mode": {
    "name": "ipython",
    "version": 3
   },
   "file_extension": ".py",
   "mimetype": "text/x-python",
   "name": "python",
   "nbconvert_exporter": "python",
   "pygments_lexer": "ipython3",
   "version": "3.8.13"
  }
 },
 "nbformat": 4,
 "nbformat_minor": 5
}
