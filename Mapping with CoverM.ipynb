{
 "cells": [
  {
   "cell_type": "markdown",
   "id": "eb7f7e60-bd87-4935-8cab-2c2cb68addb6",
   "metadata": {},
   "source": [
    "# Bash function"
   ]
  },
  {
   "cell_type": "code",
   "execution_count": 1,
   "id": "f121b494-a5d5-45f6-bf19-960cab024a80",
   "metadata": {},
   "outputs": [
    {
     "ename": "ModuleNotFoundError",
     "evalue": "No module named 'pandas'",
     "output_type": "error",
     "traceback": [
      "\u001b[0;31m---------------------------------------------------------------------------\u001b[0m",
      "\u001b[0;31mModuleNotFoundError\u001b[0m                       Traceback (most recent call last)",
      "\u001b[0;32m/tmp/ipykernel_9048/1792402353.py\u001b[0m in \u001b[0;36m<module>\u001b[0;34m\u001b[0m\n\u001b[1;32m     15\u001b[0m \u001b[0;31m#Create list of file indexes to access it later\u001b[0m\u001b[0;34m\u001b[0m\u001b[0;34m\u001b[0m\u001b[0m\n\u001b[1;32m     16\u001b[0m \u001b[0;32mimport\u001b[0m \u001b[0mos\u001b[0m\u001b[0;34m\u001b[0m\u001b[0;34m\u001b[0m\u001b[0m\n\u001b[0;32m---> 17\u001b[0;31m \u001b[0;32mimport\u001b[0m \u001b[0mpandas\u001b[0m \u001b[0;32mas\u001b[0m \u001b[0mpd\u001b[0m\u001b[0;34m\u001b[0m\u001b[0;34m\u001b[0m\u001b[0m\n\u001b[0m\u001b[1;32m     18\u001b[0m \u001b[0mclean\u001b[0m \u001b[0;34m=\u001b[0m \u001b[0mget_ipython\u001b[0m\u001b[0;34m(\u001b[0m\u001b[0;34m)\u001b[0m\u001b[0;34m.\u001b[0m\u001b[0mgetoutput\u001b[0m\u001b[0;34m(\u001b[0m\u001b[0;34m'rm -r */.ipynb_checkpoints'\u001b[0m\u001b[0;34m)\u001b[0m\u001b[0;34m\u001b[0m\u001b[0;34m\u001b[0m\u001b[0m\n\u001b[1;32m     19\u001b[0m \u001b[0mraw_samples\u001b[0m\u001b[0;34m,\u001b[0m\u001b[0mclean_samples\u001b[0m \u001b[0;34m=\u001b[0m \u001b[0;34m[\u001b[0m\u001b[0;34m]\u001b[0m\u001b[0;34m,\u001b[0m\u001b[0;34m[\u001b[0m\u001b[0;34m]\u001b[0m\u001b[0;34m\u001b[0m\u001b[0;34m\u001b[0m\u001b[0m\n",
      "\u001b[0;31mModuleNotFoundError\u001b[0m: No module named 'pandas'"
     ]
    }
   ],
   "source": [
    "def bash(string,name,queue):\n",
    "    script = \"%s.sh\"%name\n",
    "    with open(script, \"w\") as text_file:\n",
    "        text_file.write(string)\n",
    "    !chmod +x $script\n",
    "    !qsub -q $queue $script\n",
    "    !rm $script\n",
    "  \n",
    "##Declare variables\n",
    "ws = '/beegfs/work/workspace/ws/ho_rettu74-genomes-0/jupyterlab/' \n",
    "RR   = ws + 'Raw_reads'\n",
    "CR   = ws + 'Clean_reads'                                 \n",
    "name = ws + '../coverM/'                                   \n",
    "\n",
    "#Create list of file indexes to access it later\n",
    "import os\n",
    "import pandas as pd\n",
    "clean = !rm -r */.ipynb_checkpoints\n",
    "raw_samples,clean_samples = [],[]\n",
    "if os.path.exists(RR):\n",
    "    raw_samples = ['_'.join(f.split('_')[:-1]) for f in os.listdir(RR) if any(['fq' in f,'fastq' in f])]\n",
    "    raw_samples = sorted(list(set(raw_samples)))\n",
    "if os.path.exists(CR):\n",
    "    clean_samples = ['_'.join(f.split('_')[:-1]) for f in os.listdir(CR) if any(['fq' in f,'fastq' in f])]\n",
    "    clean_samples = sorted(list(set(clean_samples)))\n",
    "if raw_samples != [] and  raw_samples != clean_samples:\n",
    "    print('Not all raw reads are cleaned!')\n",
    "print('Number of raw samples: ', len(raw_samples))\n",
    "print('Number of clean samples: ', len(clean_samples))\n",
    "if clean_samples != []:\n",
    "    print('List of clean samples:')\n",
    "    print(*clean_samples)\n",
    "test = False"
   ]
  },
  {
   "cell_type": "code",
   "execution_count": null,
   "id": "e98fbd9a-143d-4648-b215-72e502dc2107",
   "metadata": {},
   "outputs": [],
   "source": [
    "# CoverM"
   ]
  },
  {
   "cell_type": "code",
   "execution_count": null,
   "id": "5bc01170-f6b3-43a9-beb0-b380d5ee9644",
   "metadata": {},
   "outputs": [],
   "source": [
    "string = '''\n",
    "#PBS -l nodes=1:ppn=14\n",
    "#PBS -l walltime=6:00:00\n",
    "#PBS -l mem=64gb\n",
    "#PBS -S /bin/bash\n",
    "\n",
    "# Activate conda enviroment\n",
    "source $HOME/miniconda3/etc/profile.d/conda.sh\n",
    "conda activate coverm\n",
    "\n",
    "cd %s\n",
    "\n",
    "# Run\n",
    "TMPDIR=. coverm genome -t 14 -c %s %s -d %s -x fasta -o %s\n",
    "'''\n",
    "import os\n",
    "for pds in clean_samples:\n",
    "    if test == True:\n",
    "        if read != clean_samples[0]: continue #test with the first read only\n",
    "    else:\n",
    "        if read == clean_samples[0]: continue\n",
    "    !mkdir -p $outdir\n",
    "    read = ws+ 'metagenomes/%s.fasta' % read\n",
    "    genome_path = ws+ '../genomes'\n",
    "    outdir = ws + '../coverM/' + read\n",
    "    !mkdir -p $outdir\n",
    "    output = '%s_coverm.tsv' % read\n",
    "    if os.path.exists(outdir + '/' + output):continue\n",
    "    binac(string%(read,genome_path, outdir, output), '%s_coverM'%read, 'short')"
   ]
  }
 ],
 "metadata": {
  "kernelspec": {
   "display_name": "Python 3 (ipykernel)",
   "language": "python",
   "name": "python3"
  },
  "language_info": {
   "codemirror_mode": {
    "name": "ipython",
    "version": 3
   },
   "file_extension": ".py",
   "mimetype": "text/x-python",
   "name": "python",
   "nbconvert_exporter": "python",
   "pygments_lexer": "ipython3",
   "version": "3.8.13"
  }
 },
 "nbformat": 4,
 "nbformat_minor": 5
}
