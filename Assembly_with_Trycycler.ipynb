{
 "cells": [
  {
   "cell_type": "markdown",
   "id": "7de22d52-02ab-4659-b093-d469c2f724f4",
   "metadata": {},
   "source": [
    "# Bash file"
   ]
  },
  {
   "cell_type": "code",
   "execution_count": 2,
   "id": "d793213a-0bcd-4498-bcf7-7755e9550640",
   "metadata": {},
   "outputs": [
    {
     "name": "stdout",
     "output_type": "stream",
     "text": [
      "['J21', 'E2', 'B98', 'B2']\n"
     ]
    }
   ],
   "source": [
    "def bash(string,name,queue):\n",
    "  script = \"%s.sh\"%name\n",
    "  with open(script, \"w\") as text_file:\n",
    "    text_file.write(string)\n",
    "  !chmod +x $script\n",
    "  !qsub -q $queue $script\n",
    "  #!rm $script\n",
    "  \n",
    "ws = '/beegfs/work/workspace/ws/ho_rettu74-genomes-0/jupyterlab/'\n",
    "\n",
    "#Create list of file indexes to access it later\n",
    "import os\n",
    "bams = [bam.split(\"_\")[0] for bam in os.listdir(\"Raw_data\")]\n",
    "print(bams)"
   ]
  },
  {
   "cell_type": "markdown",
   "id": "2ee6566b-5eeb-44be-9ccc-6679ef73fcbe",
   "metadata": {},
   "source": [
    "# Unzip and move files"
   ]
  },
  {
   "cell_type": "code",
   "execution_count": null,
   "id": "ad0e9f45-e43f-4f1e-97bc-50ff980112a2",
   "metadata": {},
   "outputs": [],
   "source": [
    "tarfile='X204SC21100035-Z01-F002_01.tar'\n",
    "import tarfile\n",
    "tar = tarfile.open('X204SC21100035-Z01-F002_01.tar')\n",
    "tar.extractall(path='X204SC21100035-Z01-F002_01.tar')\n",
    "tar.close()"
   ]
  },
  {
   "cell_type": "code",
   "execution_count": 2,
   "id": "f725aa0b-45e9-4846-9b60-1f40ea099f85",
   "metadata": {},
   "outputs": [],
   "source": [
    "# move files to Raw_reads\n",
    "import os\n",
    "for di in os.listdir('X204SC21100035-Z01-F002_01/raw_data/'):\n",
    "  if di != 'Rawdata_Readme.pdf':\n",
    "    !mv X204SC21100035-Z01-F002_01/raw_data/$di/*subreads.bam Raw_data/"
   ]
  },
  {
   "cell_type": "markdown",
   "id": "0416f0b9-0db1-4419-82f2-f0a9f9c254dc",
   "metadata": {},
   "source": [
    "# Transform bam to fastq"
   ]
  },
  {
   "cell_type": "code",
   "execution_count": 7,
   "id": "dbd655dd-3501-4ee9-9a3e-88805b3d7fe6",
   "metadata": {},
   "outputs": [
    {
     "name": "stdout",
     "output_type": "stream",
     "text": [
      "mkdir: cannot create directory ‘fq_reads’: File exists\n",
      "10684663\n",
      "10684664\n",
      "10684665\n"
     ]
    }
   ],
   "source": [
    "##Samtools = .fastq\n",
    "string = '''\n",
    "#PBS -l nodes=1:ppn=2\n",
    "#PBS -l walltime=24:00:00\n",
    "#PBS -l mem=64gb\n",
    "#PBS -S /bin/bash\n",
    "# Load the module\n",
    "module load bio/samtools/1.9\n",
    "# Run\n",
    "workdir=%s\n",
    "name=%s\n",
    "cd $workdir\n",
    "samtools fastq -N -O Raw_data/${name}_*.subreads.bam > fq_reads/${name}.fastq\n",
    "'''\n",
    "!mkdir \"fq_reads\"\n",
    "for bam in bams:\n",
    "    if bam == bams[0]:\n",
    "        continue\n",
    "    out = \"fq_reads/%s.fastq\" %bam\n",
    "    if os.path.exists(out): continue\n",
    "    bash(string%(ws,bam),'%s_samtools'%bam,'short')"
   ]
  },
  {
   "cell_type": "markdown",
   "id": "37ea4ed2-ae61-4568-a7d5-d08a7463c9f7",
   "metadata": {},
   "source": [
    "# Step 1: Generating assemblies"
   ]
  },
  {
   "cell_type": "code",
   "execution_count": 11,
   "id": "d1dfeb4c-bb4a-4c7f-940c-8216eafb36c4",
   "metadata": {},
   "outputs": [
    {
     "name": "stdout",
     "output_type": "stream",
     "text": [
      "mkdir: cannot create directory ‘filtlong’: File exists\n",
      "10684696\n",
      "10684697\n",
      "10684698\n",
      "10684699\n"
     ]
    }
   ],
   "source": [
    "##Filtlong = reads.fastq\n",
    "string = '''\n",
    "#PBS -l nodes=1:ppn=2\n",
    "#PBS -l walltime=48:00:00\n",
    "#PBS -l mem=32gb\n",
    "#PBS -S /bin/bash\n",
    "# Activate conda enviroment\n",
    "source /home/ho/ho_genetics/ho_rettu74/miniconda3/etc/profile.d/conda.sh\n",
    "conda activate filtlong\n",
    "workdir=%s\n",
    "name=%s\n",
    "cd $workdir\n",
    "#filtlong\n",
    "filtlong --min_length 1000 --keep_percent 95 fq_reads/${name}.fastq > filtlong/${name}_reads.fastq\n",
    "'''\n",
    "!mkdir filtlong\n",
    "for bam in bams:\n",
    "    bash(string%(ws,bam),'%s_filtlong'%bam,'short')"
   ]
  },
  {
   "cell_type": "code",
   "execution_count": 17,
   "id": "d8436955-9615-40c6-8ecc-30f28e69eed4",
   "metadata": {},
   "outputs": [
    {
     "name": "stdout",
     "output_type": "stream",
     "text": [
      "10685021\n",
      "10685022\n",
      "10685023\n",
      "10685024\n"
     ]
    }
   ],
   "source": [
    "##Subsampling reads (trycycler) = read_subsets\n",
    "string = '''\n",
    "#PBS -l nodes=1:ppn=10\n",
    "#PBS -l walltime=24:00:00\n",
    "#PBS -l mem=250gb\n",
    "#PBS -S /bin/bash\n",
    "source /home/ho/ho_genetics/ho_rettu74/miniconda3/etc/profile.d/conda.sh\n",
    "conda activate trycycler\n",
    "workdir3=%s\n",
    "name=%s\n",
    "size=%s\n",
    "cd $workdir3\n",
    "trycycler subsample --reads filtlong/${name}_reads.fastq --genome_size $size --out_dir subsets/$name --threads 10\n",
    "conda deactivate\n",
    "'''\n",
    "sizes= {'J21':\"2.5m\", 'E2':\"2.5m\", 'B98': \"2.5m\", 'B2': \"2.5m\"}\n",
    "for bam in bams:\n",
    "    !mkdir -p subsets/$bam\n",
    "    bash(string%(ws,bam,sizes[bam]),'%s_subsets'%bam,'smp')"
   ]
  },
  {
   "cell_type": "code",
   "execution_count": 21,
   "id": "0c983194-231f-4940-91d7-ea76720f901e",
   "metadata": {},
   "outputs": [
    {
     "name": "stdout",
     "output_type": "stream",
     "text": [
      "10685104\n",
      "10685105\n",
      "10685106\n",
      "10685107\n"
     ]
    }
   ],
   "source": [
    "##Assemblies (flye)\n",
    "string = '''\n",
    "#PBS -l nodes=1:ppn=20\n",
    "#PBS -l walltime=24:00:00\n",
    "#PBS -l mem=250gb\n",
    "#PBS -q smp\n",
    "#PBS -S /bin/bash\n",
    "source /home/ho/ho_genetics/ho_rettu74/miniconda3/etc/profile.d/conda.sh\n",
    "conda activate flye\n",
    "workdir4=%s\n",
    "name=%s\n",
    "cd $workdir4\n",
    "flye --pacbio-raw subsets/$name/sample_01.fastq --threads 20 --out-dir assemblies/$name/assembly_01 && cp assemblies/$name/assembly_01/assembly.fasta assemblies/${name}_flye_01.fasta && rm -r assembly_01\n",
    "flye --pacbio-raw subsets/$name/sample_02.fastq --threads 20 --out-dir assemblies/$name/assembly_02 && cp assemblies/$name/assembly_02/assembly.fasta assemblies/${name}_flye_02.fasta && rm -r assembly_02\n",
    "flye --pacbio-raw subsets/$name/sample_03.fastq --threads 20 --out-dir assemblies/$name/assembly_03 && cp assemblies/$name/assembly_01/assembly.fasta assemblies/${name}_flye_03.fasta && rm -r assembly_03\n",
    "flye --pacbio-raw subsets/$name/sample_04.fastq --threads 20 --out-dir assemblies/$name/assembly_14 && cp assemblies/$name/assembly_01/assembly.fasta assemblies/${name}_flye_04.fasta && rm -r assembly_04\n",
    "flye --pacbio-raw subsets/$name/sample_05.fastq --threads 20 --out-dir assemblies/$name/assembly_05 && cp assemblies/$name/assembly_01/assembly.fasta assemblies/${name}_flye_05.fasta && rm -r assembly_05\n",
    "flye --pacbio-raw subsets/$name/sample_06.fastq --threads 20 --out-dir assemblies/$name/assembly_06 && cp assemblies/$name/assembly_01/assembly.fasta assemblies/${name}_flye_06.fasta && rm -r assembly_06\n",
    "flye --pacbio-raw subsets/$name/sample_07.fastq --threads 20 --out-dir assemblies/$name/assembly_07 && cp assemblies/$name/assembly_01/assembly.fasta assemblies/${name}_flye_07.fasta && rm -r assembly_07\n",
    "flye --pacbio-raw subsets/$name/sample_08.fastq --threads 20 --out-dir assemblies/$name/assembly_08 && cp assemblies/$name/assembly_01/assembly.fasta assemblies/${name}_flye_08.fasta && rm -r assembly_08\n",
    "flye --pacbio-raw subsets/$name/sample_09.fastq --threads 20 --out-dir assemblies/$name/assembly_09 && cp assemblies/$name/assembly_01/assembly.fasta assemblies/${name}_flye_09.fasta && rm -r assembly_09\n",
    "flye --pacbio-raw subsets/$name/sample_10.fastq --threads 20 --out-dir assemblies/$name/assembly_10 && cp assemblies/$name/assembly_01/assembly.fasta assemblies/${name}_flye_10.fasta && rm -r assembly_10\n",
    "flye --pacbio-raw subsets/$name/sample_11.fastq --threads 20 --out-dir assemblies/$name/assembly_11 && cp assemblies/$name/assembly_01/assembly.fasta assemblies/${name}_flye_11.fasta && rm -r assembly_11\n",
    "flye --pacbio-raw subsets/$name/sample_12.fastq --threads 20 --out-dir assemblies/$name/assembly_12 && cp assemblies/$name/assembly_01/assembly.fasta assemblies/${name}_flye_12.fasta && rm -r assembly_12\n",
    "conda deactivate\n",
    "'''\n",
    "for bam in bams:\n",
    "    !mkdir -p assemblies/$bam\n",
    "    bash(string%(ws,bam),'%s_assemblies'%bam,'smp')"
   ]
  },
  {
   "cell_type": "markdown",
   "id": "5ed3943a-802f-434d-af87-6df785e1f5c0",
   "metadata": {},
   "source": [
    "# Step 2: Clustering contigs"
   ]
  },
  {
   "cell_type": "code",
   "execution_count": 21,
   "id": "17226426-b1e0-4428-9e39-7a5e259fd9a0",
   "metadata": {},
   "outputs": [
    {
     "name": "stdout",
     "output_type": "stream",
     "text": [
      "10707154\n",
      "10707155\n",
      "10707156\n",
      "10707157\n"
     ]
    }
   ],
   "source": [
    "##Running Trycycler cluster\n",
    "string = '''\n",
    "#PBS -l nodes=1:ppn=10\n",
    "#PBS -l walltime=24:00:00\n",
    "#PBS -l mem=250gb\n",
    "#PBS -S /bin/bash\n",
    "source /home/ho/ho_genetics/ho_rettu74/miniconda3/etc/profile.d/conda.sh\n",
    "conda activate trycycler\n",
    "\n",
    "workdir=%s\n",
    "name=%s\n",
    "cd $workdir\n",
    "\n",
    "trycycler cluster --assemblies assemblies/${name}_flye_*.fasta --reads filtlong/${name}_reads.fastq --out_dir clusters/$name --threads 10\n",
    "conda deactivate\n",
    "'''\n",
    "for bam in bams:\n",
    "    !mkdir -p  clusters/$bam \n",
    "    # !mv /clusters/%s_cluster/contigs.* /clusters/%s_cluster/%s_contigs.*\n",
    "    bash(string%(ws,bam),'%s_clusters'%bam,'smp')"
   ]
  },
  {
   "cell_type": "code",
   "execution_count": null,
   "id": "8f3c5b6f-5f25-4c98-acf2-197e398edcb9",
   "metadata": {},
   "outputs": [],
   "source": [
    "# Step 3: Reconciling contigs"
   ]
  },
  {
   "cell_type": "code",
   "execution_count": 90,
   "id": "aad86b65-b3c8-4b60-abb0-64d641764dd1",
   "metadata": {},
   "outputs": [
    {
     "name": "stdout",
     "output_type": "stream",
     "text": [
      "10707913\n"
     ]
    }
   ],
   "source": [
    "##Running Trycycler reconcile\n",
    "#using the best cluster\n",
    "##have to be run separated to each cluster\n",
    "string = '''\n",
    "#PBS -l nodes=1:ppn=20\n",
    "#PBS -l walltime=24:00:00\n",
    "#PBS -l mem=250gb\n",
    "#PBS -q smp\n",
    "#PBS -S /bin/bash\n",
    "source /home/ho/ho_genetics/ho_rettu74/miniconda3/etc/profile.d/conda.sh\n",
    "conda activate trycycler\n",
    "workdir=%s\n",
    "name=%s\n",
    "cd $workdir\n",
    "trycycler reconcile --reads filtlong/${name}_reads.fastq --cluster_dir clusters/${name}/cluster_001\n",
    "conda deactivate\n",
    "'''\n",
    "#for bam in bams:\n",
    "    #!mkdir -p  reconcile/$bam \n",
    "bash(string%(ws,bam),'%s_reconcile'%bam,'smp')"
   ]
  },
  {
   "cell_type": "markdown",
   "id": "f88bdf10-a75e-4fba-b2d5-06771e4d90e5",
   "metadata": {},
   "source": [
    "# Step 4: Multiple sequence alignment"
   ]
  },
  {
   "cell_type": "code",
   "execution_count": 117,
   "id": "d8615e6f-76e9-47aa-b032-ba28227d5878",
   "metadata": {},
   "outputs": [
    {
     "name": "stdout",
     "output_type": "stream",
     "text": [
      "10707921\n",
      "10707922\n",
      "10707923\n",
      "10707924\n"
     ]
    }
   ],
   "source": [
    "##Running Trycycler msa\n",
    "string = '''\n",
    "#PBS -l nodes=1:ppn=20\n",
    "#PBS -l walltime=24:00:00\n",
    "#PBS -l mem=250gb\n",
    "#PBS -q smp\n",
    "#PBS -S /bin/bash\n",
    "source /home/ho/ho_genetics/ho_rettu74/miniconda3/etc/profile.d/conda.sh\n",
    "conda activate trycycler\n",
    "workdir=%s\n",
    "name=%s\n",
    "cd $workdir\n",
    "trycycler msa --cluster_dir clusters/${name}/cluster_001\n",
    "conda deactivate\n",
    "'''\n",
    "for bam in bams:\n",
    "    #!mkdir -p  reconcile/$bam \n",
    "    bash(string%(ws,bam),'%s_msa'%bam,'smp')"
   ]
  },
  {
   "cell_type": "markdown",
   "id": "e9f06f59-e4f5-4850-bd82-3c12549937f2",
   "metadata": {},
   "source": [
    "# Step 5: Partitioning reads"
   ]
  },
  {
   "cell_type": "code",
   "execution_count": 3,
   "id": "a96176c1-81bf-425b-98c5-e3541da7c323",
   "metadata": {},
   "outputs": [
    {
     "name": "stdout",
     "output_type": "stream",
     "text": [
      "10708041\n",
      "10708042\n",
      "10708043\n",
      "10708044\n"
     ]
    }
   ],
   "source": [
    "##Running Trycycler partition\n",
    "string = '''\n",
    "#PBS -l nodes=1:ppn=20\n",
    "#PBS -l walltime=24:00:00\n",
    "#PBS -l mem=250gb\n",
    "#PBS -q smp\n",
    "#PBS -S /bin/bash\n",
    "source /home/ho/ho_genetics/ho_rettu74/miniconda3/etc/profile.d/conda.sh\n",
    "conda activate trycycler\n",
    "workdir=%s\n",
    "name=%s\n",
    "cd $workdir\n",
    "trycycler partition --reads filtlong/${name}_reads.fastq --cluster_dir clusters/${name}/cluster_001\n",
    "conda deactivate\n",
    "'''\n",
    "for bam in bams:\n",
    "    #!mkdir -p  reconcile/$bam \n",
    "    bash(string%(ws,bam),'%s_partition'%bam,'smp')"
   ]
  },
  {
   "cell_type": "markdown",
   "id": "87d8137d-69e9-4894-b6ea-86c093cd775c",
   "metadata": {},
   "source": [
    "# Step 6: Generating a consensus"
   ]
  },
  {
   "cell_type": "code",
   "execution_count": 17,
   "id": "8dcb8575-60c0-46b2-9268-df3a7218442f",
   "metadata": {},
   "outputs": [
    {
     "name": "stdout",
     "output_type": "stream",
     "text": [
      "10708046\n",
      "10708047\n",
      "10708048\n",
      "10708049\n"
     ]
    }
   ],
   "source": [
    "##Running Trycycler consensus\n",
    "string = '''\n",
    "#PBS -l nodes=1:ppn=20\n",
    "#PBS -l walltime=24:00:00\n",
    "#PBS -l mem=250gb\n",
    "#PBS -q smp\n",
    "#PBS -S /bin/bash\n",
    "source /home/ho/ho_genetics/ho_rettu74/miniconda3/etc/profile.d/conda.sh\n",
    "conda activate trycycler\n",
    "workdir=%s\n",
    "name=%s\n",
    "cd $workdir\n",
    "trycycler consensus --cluster_dir clusters/${name}/cluster_001\n",
    "conda deactivate\n",
    "'''\n",
    "for bam in bams:\n",
    "    #!mkdir -p  reconcile/$bam \n",
    "    bash(string%(ws,bam),'%s_consensus'%bam,'smp')"
   ]
  },
  {
   "cell_type": "markdown",
   "id": "4d29b01f-136a-459b-a334-3393f92d267a",
   "metadata": {},
   "source": [
    "# Step 7: Polishing after Trycycler"
   ]
  },
  {
   "cell_type": "code",
   "execution_count": null,
   "id": "c4452433-f898-4ce3-a258-a2cbcd2d7e8c",
   "metadata": {},
   "outputs": [],
   "source": [
    "##Running \n",
    "string = '''\n",
    "#PBS -l nodes=1:ppn=20\n",
    "#PBS -l walltime=24:00:00\n",
    "#PBS -l mem=250gb\n",
    "#PBS -q smp\n",
    "#PBS -S /bin/bash\n",
    "source /home/ho/ho_genetics/ho_rettu74/miniconda3/etc/profile.d/conda.sh\n",
    "conda activate trycycler\n",
    "workdir=%s\n",
    "name=%s\n",
    "cd $workdir\n",
    "\n"
   ]
  }
 ],
 "metadata": {
  "kernelspec": {
   "display_name": "Python 3 (ipykernel)",
   "language": "python",
   "name": "python3"
  },
  "language_info": {
   "codemirror_mode": {
    "name": "ipython",
    "version": 3
   },
   "file_extension": ".py",
   "mimetype": "text/x-python",
   "name": "python",
   "nbconvert_exporter": "python",
   "pygments_lexer": "ipython3",
   "version": "3.8.13"
  }
 },
 "nbformat": 4,
 "nbformat_minor": 5
}
