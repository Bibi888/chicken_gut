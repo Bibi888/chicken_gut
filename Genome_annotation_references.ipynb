{
 "cells": [
  {
   "cell_type": "markdown",
   "id": "07aaad05-20be-43f8-bf00-4d163a85ccb3",
   "metadata": {},
   "source": [
    "# Annotate to gff genomes from references"
   ]
  },
  {
   "cell_type": "code",
   "execution_count": 13,
   "id": "2b103bad-12f7-4ae4-b8fc-9ea96e096dc0",
   "metadata": {},
   "outputs": [
    {
     "name": "stdout",
     "output_type": "stream",
     "text": [
      "['Ligilactobacillus_equi_DPC6820_clean', 'B107_Limosilactobacillus_ingluviei', 'Limosilactobacillus_portuensisASM1904269_clean', 'Liquorilactobacillus_satsumensis_DSM16230_clean', 'B009_Ligilactobacillus_aviarius', 'J21_Limosilactobacillus_albus', 'Limosilactobacillus_albertensis_RRLE51_clean', 'J05_Limosilactobacillus_vaginalis', 'J01_Ligilactobacillus_aviarius', 'J29_Limosilactobacillus_vaginalis', 'Levilactobacillus_enshiensisHBUAS51131_clean', 'E2pb_Limosilactobacillus_difficile', '', 'B032_Limosilactobacillus_pullum', 'Limosilactobacillus_equigenerosi_JCM14505_clean', 'Ligilactobacillus_araffinosusDSM20653_clean', 'CanLigilactobacillus_avistercoris', 'Liquorilactobacillus_nagelii_DSM13675_clean', 'Limosilactobacillus_mucosae_DSM13345_clean', 'Liquorilactobacillus_hordei_DSM19519_clean', 'Ligilactobacillus_cetiDSM22408_clean', 'Amylolactobacillus_amylophilus_DSM20533', 'Limosilactobacillus_alvi_An810_clean', 'Limosilactobacillus_oris_DSM4864_clean', 'Liquorilactobacillus_aquaticus_DSM21051_clean', 'I11_Ligilactobacillus_aviarius', 'Liquorilactobacillus_maliM596_clean', 'B106_Limosilactobacillus_pullum', 'Lactobacillus_inersLI335', 'Ligilactobacillus_animalisP38', 'Agrilactobacillus_yilanensis_542', 'B035_Lactobacillus_gallinarum', 'Ligilactobacillus_ruminis_ATCC27782', 'Limosilactobacillus_secaliphilus_DSM17896_clean', 'B002_Limosilactobacillus_gallistercoris', 'Companilactobacillus_bobaliusKACC16343', 'I20_Limosilactobacillus_pullum', 'Ligilactobacillus_pobuzihii_NBRC103219_clean', 'Limosilactobacillus_rudiiSTM1_clean', 'B015_Limosilactobacillus_avium', 'J22_Ligilactobacillus_hohenheimius', 'Levilactobacillus_suantsaiiBCRC12945_clean', 'Limosilactobacillus_antri_DSM16041_clean', 'Limosilactobacillus_frumenti_DSM13145_clean', 'J14_Ligilactobacillus_hohenheimius', 'Lactobacillus_helveticusDSM20075_clean', 'Ligilactobacillus_aviariusNBRC102162_clean', 'Ligilactobacillus_salitolerans_YK43_clean', 'Limosilactobacillus_coleohominis1014CHN_clean', 'Limosilactobacillus_ingluviei_DSM15946_clean', 'I18_Limosilactobacillus_vaginalis', 'J35_Ligilactobacillus_aviarius', 'Ligilactobacillus_hayakitensisDSM18933_clean', 'Liquorilactobacillus_vini_DSM20605_clean', 'Limosilactobacillus_balticus_clean', 'Bombilactobacillus_mellis_Hon2', 'Bombilactobacillus_bombi_BI25', 'Lactobacillus_crispatus_ATCC33820_clean', 'B104_Limosilactobacillus_ingluviei', 'Lactobacillus_delbrueckiiDSM26046', 'B118_Ligilactobacillus_aviarius', 'Limosilactobacillus_reuteri_WHH1689', 'Lapidilactobacillus_dextrinicus_DSM20335_clean', 'Holzapfelia_floricolaDSM23037_clean', 'Lactobacillus_gigeriorum_DSM2390_clean', 'Limosilactobacillus_vaginalis_DSM5837_clean', 'J07_Lactobacillus_gallinarum', 'B010_Limosilactobacillus_reuteri', 'Liquorilactobacillus_sucicola_DSM21376_clean', 'Limosilactobacillus_coleohominis_DSM14060_clean', 'Companilactobacillus_kimchiiDSM13961', 'J03_Ligilactobacillus_aviarius', 'Liquorilactobacillus_uvarum_DSM19971_clean', 'J30_Limosilactobacillus_oris', 'Limosilactobacillus_fastidiosusWFMA3B_clean', 'Limosilactobacillus_urinaemulieris_DSM106190', 'CanLimosilactobacillus_gallistercorisASM1911840', 'J31_Limosilactobacillus_vaginalis', 'Lactobacillus_gallinarum_DSM10532_clean', 'Lactobacillus_pasteurii_DSM23907_clean', 'Ligilactobacillus_salivarius_LPM01', 'Ligilactobacillus_aviariusDSM20655_clean', 'Lentilactobacillus_hilgardii_ATCC8290_clean', 'Ligilactobacillus_acidipiscisACADC1533', 'Limosilactobacillus_caviaeCCM8609_clean', 'Liquorilactobacillus_capillatus_DSM19910_clean', 'Companilactobacillus_ginsenosidimutansEMML3141', 'Liquorilactobacillus_oeni_DSM19972_clean', 'Lactobacillus_jensenii_DSM20557_clean', 'J39_Limosilactobacillus_vaginalis', 'Lactobacillus_gasseriBIO6369_clean', 'Limosilactobacillus_gorillaeKZ01_clean', 'Limosilactobacillus_panis_DSM6035_clean', 'J11_Ligilactobacillus_hohenheimius', 'Limosilactobacillus_gastricus_DSM16045_clean', 'Levilactobacillus_spicheriDSM15429_clean', 'Lacticaseibacillus_rhamnosus_NCTC13764', 'Ligilactobacillus_apodemiDSM16634_clean', 'J25_Ligilactobacillus_aviarius', 'B031_Limosilactobacillus_reuteri', 'B116_Limosilactobacillus_pullum', 'Liquorilactobacillus_cacaonum_DSM21116_clean', 'Ligilactobacillus_agilisLa3_clean', 'Liquorilactobacillus_ghanensis_DSM18630_clean', 'Companilactobacillus_farciminisDSM20184', 'Lentilactobacillus_parakefiriKR_clean', 'B114_Limosilactobacillus_digestus', 'B110_Lactobacillus_gallinarum', 'Limosilactobacillus_pontis_DSM8475_clean', 'Ligilactobacillus_murinus_cr147', 'Limosilactobacillus_agrestis_ASM1414554_clean', 'B056_Ligilactobacillus_aviarius', 'B098pb_Limosilactobacillus_digestus', 'Ligilactobacillus_saerimneri_30a_clean', 'Limosilactobacillus_fermentumSCB0035', 'J28_Ligilactobacillus_aviarius', 'B119_Limosilactobacillus_ingluviei']\n"
     ]
    }
   ],
   "source": [
    "def bash(string,name,queue):\n",
    "  script = \"%s.sh\"%name\n",
    "  with open(script, \"w\") as text_file:\n",
    "    text_file.write(string)\n",
    "  !chmod +x $script\n",
    "  !qsub -q $queue $script\n",
    "  #!rm $script\n",
    "  \n",
    "ws = '/beegfs/work/workspace/ws/ho_rettu74-genomes-0/jupyterlab/'\n",
    "\n",
    "#Create list of file indexes to access it later\n",
    "import os\n",
    "genome = [genome.split('.')[0] for genome in os.listdir(\"roary_paper\")]\n",
    "print(genome)"
   ]
  },
  {
   "cell_type": "markdown",
   "id": "afa053ee-8e25-46e7-9df0-c14c568263c2",
   "metadata": {},
   "source": [
    "# Annotate with prokka"
   ]
  },
  {
   "cell_type": "code",
   "execution_count": 2,
   "id": "4a6424a0-2985-432c-bb41-b68e2728187e",
   "metadata": {},
   "outputs": [
    {
     "name": "stdout",
     "output_type": "stream",
     "text": [
      "10742679\n",
      "10742680\n",
      "10742681\n",
      "10742682\n",
      "10742683\n",
      "10742684\n",
      "10742685\n",
      "10742686\n",
      "10742687\n",
      "10742688\n",
      "10742689\n",
      "10742690\n",
      "10742691\n",
      "10742692\n",
      "10742693\n",
      "10742694\n",
      "10742695\n",
      "10742696\n",
      "10742697\n",
      "10742698\n",
      "10742699\n"
     ]
    }
   ],
   "source": [
    "###PROKKA''''\n",
    "string = '''\n",
    "#PBS -l nodes=1:ppn=2\n",
    "#PBS -l walltime=1:00:00\n",
    "#PBS -l mem=24gb\n",
    "#PBS -S /bin/bash\n",
    "source /home/ho/ho_genetics/ho_rettu74/miniconda3/etc/profile.d/conda.sh\n",
    "conda activate prokka\n",
    "prokka %s --addgenes --outdir %s\n",
    "conda deactivate\n",
    "'''\n",
    "contigs = ws+'/Lactococcus_paper'\n",
    "prokka = ws+'/Lactococcus_prokka'\n",
    "!mkdir Lactococcus_prokka\n",
    "for genome in genome:\n",
    "  contig = contigs+ \"/%s.fna\" % genome\n",
    "  outdir = ws+\"/Lactococcus_prokka/%s\" % genome\n",
    "  bash(string%(contig,outdir),'%s_prokka'%genome,'short')"
   ]
  },
  {
   "cell_type": "markdown",
   "id": "760b36cb-8fc8-4937-b24d-654f0a05637a",
   "metadata": {},
   "source": [
    "Transfer output files to different folders"
   ]
  },
  {
   "cell_type": "code",
   "execution_count": 10,
   "id": "a4807776-905f-48c4-bac3-447201ece0ba",
   "metadata": {},
   "outputs": [
    {
     "name": "stdout",
     "output_type": "stream",
     "text": [
      "mkdir: cannot create directory ‘Lactococcus_gff’: File exists\n",
      "cp: cannot stat ‘Lactococcus_prokka//*.gff’: No such file or directory\n"
     ]
    }
   ],
   "source": [
    "# move gff to the new directory\n",
    "!mkdir roary_gff\n",
    "for genome in genome:\n",
    "  oldprokka = 'roary_prokka/%s/*.gff' %genome\n",
    "  newprokka = 'roary_gff/%s.gff' %genome\n",
    "  !cp $oldprokka $newprokka"
   ]
  },
  {
   "cell_type": "code",
   "execution_count": 14,
   "id": "286d3cd5-648e-4e9d-8579-75b7cf1bc12d",
   "metadata": {},
   "outputs": [
    {
     "name": "stdout",
     "output_type": "stream",
     "text": [
      "cp: cannot stat ‘roary_prokka//*.faa’: No such file or directory\n"
     ]
    }
   ],
   "source": [
    "# move faa to the new directory\n",
    "!mkdir roary_faa\n",
    "for genome in genome:\n",
    "  oldprokka2 = 'roary_prokka/%s/*.faa' %genome\n",
    "  newprokka2 = 'roary_faa/%s.faa' %genome\n",
    "  !cp $oldprokka2 $newprokka2"
   ]
  }
 ],
 "metadata": {
  "kernelspec": {
   "display_name": "Python 3 (ipykernel)",
   "language": "python",
   "name": "python3"
  },
  "language_info": {
   "codemirror_mode": {
    "name": "ipython",
    "version": 3
   },
   "file_extension": ".py",
   "mimetype": "text/x-python",
   "name": "python",
   "nbconvert_exporter": "python",
   "pygments_lexer": "ipython3",
   "version": "3.8.13"
  }
 },
 "nbformat": 4,
 "nbformat_minor": 5
}
